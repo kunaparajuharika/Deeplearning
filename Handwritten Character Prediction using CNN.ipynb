{
  "cells": [
    {
      "cell_type": "markdown",
      "metadata": {
        "id": "FyLKp8d0QMXk"
      },
      "source": [
        "# Connecting the current Notebook to Google Drive and Mounting the Drive"
      ]
    },
    {
      "cell_type": "code",
      "execution_count": 1,
      "metadata": {
        "colab": {
          "base_uri": "https://localhost:8080/"
        },
        "id": "zpumJll_RF58",
        "outputId": "296fcf01-f989-4fe9-fbbf-207d9df76a3c"
      },
      "outputs": [
        {
          "output_type": "stream",
          "name": "stdout",
          "text": [
            "Mounted at /content/gdrive\n"
          ]
        }
      ],
      "source": [
        "from google.colab import drive  # Allows us to mount Google Drive to the Notebook\n",
        "drive.mount('/content/gdrive')"
      ]
    },
    {
      "cell_type": "markdown",
      "metadata": {
        "id": "Sx0mJNGbQXut"
      },
      "source": [
        "# Extracting the dataset from Google Drive to our current working directory"
      ]
    },
    {
      "cell_type": "code",
      "execution_count": 2,
      "metadata": {
        "id": "gQqPwseORn_T"
      },
      "outputs": [],
      "source": [
        "!unzip gdrive/My\\ Drive/Handwritten_Characters_Dataset > /dev/null   # Unzipping and loading the dataset to the notebook"
      ]
    },
    {
      "cell_type": "markdown",
      "metadata": {
        "id": "BbRYeWpxQj6P"
      },
      "source": [
        "# Importing the required libraries"
      ]
    },
    {
      "cell_type": "code",
      "execution_count": 3,
      "metadata": {
        "id": "486YT1YIsxJO"
      },
      "outputs": [],
      "source": [
        "import matplotlib.pyplot as plt  # Used for plotting.\n",
        "from keras.models import Sequential  # Sequential API is used to create models layer-by-layer. It adds a layer instance on top of the layers stack.\n",
        "import pickle\n",
        "\n",
        "# Importing the different layers that will be used to build the CNN\n",
        "from keras.layers import Dense, Flatten, Conv2D, MaxPool2D, Dropout, BatchNormalization\n",
        "from keras.optimizers import SGD, Adam\n",
        "from keras.utils import to_categorical  # used to one-hot encode integer data.\n",
        "from keras.preprocessing.image import ImageDataGenerator\n",
        "from keras.models import load_model, model_from_json\n",
        "from keras import backend as K\n",
        "from keras import layers, models, optimizers, initializers, callbacks\n",
        "from keras.models import load_model\n",
        "\n",
        "import tensorflow as tf\n",
        "from PIL import Image\n",
        "from tensorflow.keras.preprocessing import image\n",
        "\n",
        "import pandas as pd  # It is used for working with data sets. It has functions for analyzing, cleaning, exploring, and manipulating data.\n",
        "import numpy as np  # Allows us to work with nd arrays, which are much faster than regular python lists\n",
        "import os\n",
        "from string import ascii_uppercase # Returns a string containing all the letters of the alphabet in uppercase, i.e A,B,C,...Z\n",
        "from sklearn.model_selection import train_test_split  # Splits the dataset into two datasets, one for training the model and the other for testing it\n",
        "from sklearn.utils import shuffle  # Performs a random shuffle on the dataset.\n",
        "\n",
        "import cv2\n",
        "import csv\n",
        "import math"
      ]
    },
    {
      "cell_type": "markdown",
      "metadata": {
        "id": "HPFitDSyQoZR"
      },
      "source": [
        "# Reading the dataset into a DataFrame"
      ]
    },
    {
      "cell_type": "code",
      "execution_count": 4,
      "metadata": {
        "id": "VTNVPRMGIZOn"
      },
      "outputs": [],
      "source": [
        "df = pd.read_csv(\"./A_Z Handwritten Data.csv\")"
      ]
    },
    {
      "cell_type": "code",
      "source": [
        "df.shape"
      ],
      "metadata": {
        "colab": {
          "base_uri": "https://localhost:8080/"
        },
        "id": "1hNVGoCG3Tep",
        "outputId": "5dcbb631-63ca-46cf-cbbf-674f13ff1665"
      },
      "execution_count": 5,
      "outputs": [
        {
          "output_type": "execute_result",
          "data": {
            "text/plain": [
              "(372450, 785)"
            ]
          },
          "metadata": {},
          "execution_count": 5
        }
      ]
    },
    {
      "cell_type": "markdown",
      "source": [
        "# Get a sample of the dataset"
      ],
      "metadata": {
        "id": "uWEWTbXvv_9L"
      }
    },
    {
      "cell_type": "code",
      "execution_count": 6,
      "metadata": {
        "id": "Gmv1la1ab_om"
      },
      "outputs": [],
      "source": [
        "number_of_samples = 20000\n",
        "df = df.sample(number_of_samples, replace=False)"
      ]
    },
    {
      "cell_type": "markdown",
      "metadata": {
        "id": "9-kVChapQyEO"
      },
      "source": [
        "# Exploring the dataset"
      ]
    },
    {
      "cell_type": "code",
      "execution_count": 7,
      "metadata": {
        "colab": {
          "base_uri": "https://localhost:8080/",
          "height": 235
        },
        "id": "ivzV-P5VPgZU",
        "outputId": "ea8fe265-d4ea-4189-b8fe-4b15d1c08147"
      },
      "outputs": [
        {
          "output_type": "execute_result",
          "data": {
            "text/plain": [
              "         0  0.1  0.2  0.3  0.4  0.5  0.6  0.7  0.8  0.9  ...  0.639  0.640  \\\n",
              "344493  22    0    0    0    0    0    0    0    0    0  ...      0      0   \n",
              "215515  15    0    0    0    0    0    0    0    0    0  ...      0      0   \n",
              "218229  16    0    0    0    0    0    0    0    0    0  ...      0      0   \n",
              "284225  19    0    0    0    0    0    0    0    0    0  ...      0      0   \n",
              "14899    1    0    0    0    0    0    0    0    0    0  ...      0      0   \n",
              "\n",
              "        0.641  0.642  0.643  0.644  0.645  0.646  0.647  0.648  \n",
              "344493      0      0      0      0      0      0      0      0  \n",
              "215515      0      0      0      0      0      0      0      0  \n",
              "218229      0      0      0      0      0      0      0      0  \n",
              "284225      0      0      0      0      0      0      0      0  \n",
              "14899       0      0      0      0      0      0      0      0  \n",
              "\n",
              "[5 rows x 785 columns]"
            ],
            "text/html": [
              "\n",
              "\n",
              "  <div id=\"df-2e55ca77-706f-408b-b8ae-52cbd5b71334\">\n",
              "    <div class=\"colab-df-container\">\n",
              "      <div>\n",
              "<style scoped>\n",
              "    .dataframe tbody tr th:only-of-type {\n",
              "        vertical-align: middle;\n",
              "    }\n",
              "\n",
              "    .dataframe tbody tr th {\n",
              "        vertical-align: top;\n",
              "    }\n",
              "\n",
              "    .dataframe thead th {\n",
              "        text-align: right;\n",
              "    }\n",
              "</style>\n",
              "<table border=\"1\" class=\"dataframe\">\n",
              "  <thead>\n",
              "    <tr style=\"text-align: right;\">\n",
              "      <th></th>\n",
              "      <th>0</th>\n",
              "      <th>0.1</th>\n",
              "      <th>0.2</th>\n",
              "      <th>0.3</th>\n",
              "      <th>0.4</th>\n",
              "      <th>0.5</th>\n",
              "      <th>0.6</th>\n",
              "      <th>0.7</th>\n",
              "      <th>0.8</th>\n",
              "      <th>0.9</th>\n",
              "      <th>...</th>\n",
              "      <th>0.639</th>\n",
              "      <th>0.640</th>\n",
              "      <th>0.641</th>\n",
              "      <th>0.642</th>\n",
              "      <th>0.643</th>\n",
              "      <th>0.644</th>\n",
              "      <th>0.645</th>\n",
              "      <th>0.646</th>\n",
              "      <th>0.647</th>\n",
              "      <th>0.648</th>\n",
              "    </tr>\n",
              "  </thead>\n",
              "  <tbody>\n",
              "    <tr>\n",
              "      <th>344493</th>\n",
              "      <td>22</td>\n",
              "      <td>0</td>\n",
              "      <td>0</td>\n",
              "      <td>0</td>\n",
              "      <td>0</td>\n",
              "      <td>0</td>\n",
              "      <td>0</td>\n",
              "      <td>0</td>\n",
              "      <td>0</td>\n",
              "      <td>0</td>\n",
              "      <td>...</td>\n",
              "      <td>0</td>\n",
              "      <td>0</td>\n",
              "      <td>0</td>\n",
              "      <td>0</td>\n",
              "      <td>0</td>\n",
              "      <td>0</td>\n",
              "      <td>0</td>\n",
              "      <td>0</td>\n",
              "      <td>0</td>\n",
              "      <td>0</td>\n",
              "    </tr>\n",
              "    <tr>\n",
              "      <th>215515</th>\n",
              "      <td>15</td>\n",
              "      <td>0</td>\n",
              "      <td>0</td>\n",
              "      <td>0</td>\n",
              "      <td>0</td>\n",
              "      <td>0</td>\n",
              "      <td>0</td>\n",
              "      <td>0</td>\n",
              "      <td>0</td>\n",
              "      <td>0</td>\n",
              "      <td>...</td>\n",
              "      <td>0</td>\n",
              "      <td>0</td>\n",
              "      <td>0</td>\n",
              "      <td>0</td>\n",
              "      <td>0</td>\n",
              "      <td>0</td>\n",
              "      <td>0</td>\n",
              "      <td>0</td>\n",
              "      <td>0</td>\n",
              "      <td>0</td>\n",
              "    </tr>\n",
              "    <tr>\n",
              "      <th>218229</th>\n",
              "      <td>16</td>\n",
              "      <td>0</td>\n",
              "      <td>0</td>\n",
              "      <td>0</td>\n",
              "      <td>0</td>\n",
              "      <td>0</td>\n",
              "      <td>0</td>\n",
              "      <td>0</td>\n",
              "      <td>0</td>\n",
              "      <td>0</td>\n",
              "      <td>...</td>\n",
              "      <td>0</td>\n",
              "      <td>0</td>\n",
              "      <td>0</td>\n",
              "      <td>0</td>\n",
              "      <td>0</td>\n",
              "      <td>0</td>\n",
              "      <td>0</td>\n",
              "      <td>0</td>\n",
              "      <td>0</td>\n",
              "      <td>0</td>\n",
              "    </tr>\n",
              "    <tr>\n",
              "      <th>284225</th>\n",
              "      <td>19</td>\n",
              "      <td>0</td>\n",
              "      <td>0</td>\n",
              "      <td>0</td>\n",
              "      <td>0</td>\n",
              "      <td>0</td>\n",
              "      <td>0</td>\n",
              "      <td>0</td>\n",
              "      <td>0</td>\n",
              "      <td>0</td>\n",
              "      <td>...</td>\n",
              "      <td>0</td>\n",
              "      <td>0</td>\n",
              "      <td>0</td>\n",
              "      <td>0</td>\n",
              "      <td>0</td>\n",
              "      <td>0</td>\n",
              "      <td>0</td>\n",
              "      <td>0</td>\n",
              "      <td>0</td>\n",
              "      <td>0</td>\n",
              "    </tr>\n",
              "    <tr>\n",
              "      <th>14899</th>\n",
              "      <td>1</td>\n",
              "      <td>0</td>\n",
              "      <td>0</td>\n",
              "      <td>0</td>\n",
              "      <td>0</td>\n",
              "      <td>0</td>\n",
              "      <td>0</td>\n",
              "      <td>0</td>\n",
              "      <td>0</td>\n",
              "      <td>0</td>\n",
              "      <td>...</td>\n",
              "      <td>0</td>\n",
              "      <td>0</td>\n",
              "      <td>0</td>\n",
              "      <td>0</td>\n",
              "      <td>0</td>\n",
              "      <td>0</td>\n",
              "      <td>0</td>\n",
              "      <td>0</td>\n",
              "      <td>0</td>\n",
              "      <td>0</td>\n",
              "    </tr>\n",
              "  </tbody>\n",
              "</table>\n",
              "<p>5 rows × 785 columns</p>\n",
              "</div>\n",
              "      <button class=\"colab-df-convert\" onclick=\"convertToInteractive('df-2e55ca77-706f-408b-b8ae-52cbd5b71334')\"\n",
              "              title=\"Convert this dataframe to an interactive table.\"\n",
              "              style=\"display:none;\">\n",
              "\n",
              "  <svg xmlns=\"http://www.w3.org/2000/svg\" height=\"24px\"viewBox=\"0 0 24 24\"\n",
              "       width=\"24px\">\n",
              "    <path d=\"M0 0h24v24H0V0z\" fill=\"none\"/>\n",
              "    <path d=\"M18.56 5.44l.94 2.06.94-2.06 2.06-.94-2.06-.94-.94-2.06-.94 2.06-2.06.94zm-11 1L8.5 8.5l.94-2.06 2.06-.94-2.06-.94L8.5 2.5l-.94 2.06-2.06.94zm10 10l.94 2.06.94-2.06 2.06-.94-2.06-.94-.94-2.06-.94 2.06-2.06.94z\"/><path d=\"M17.41 7.96l-1.37-1.37c-.4-.4-.92-.59-1.43-.59-.52 0-1.04.2-1.43.59L10.3 9.45l-7.72 7.72c-.78.78-.78 2.05 0 2.83L4 21.41c.39.39.9.59 1.41.59.51 0 1.02-.2 1.41-.59l7.78-7.78 2.81-2.81c.8-.78.8-2.07 0-2.86zM5.41 20L4 18.59l7.72-7.72 1.47 1.35L5.41 20z\"/>\n",
              "  </svg>\n",
              "      </button>\n",
              "\n",
              "\n",
              "\n",
              "    <div id=\"df-a4fe10ec-8b7f-460d-9569-1a3564e8e625\">\n",
              "      <button class=\"colab-df-quickchart\" onclick=\"quickchart('df-a4fe10ec-8b7f-460d-9569-1a3564e8e625')\"\n",
              "              title=\"Suggest charts.\"\n",
              "              style=\"display:none;\">\n",
              "\n",
              "<svg xmlns=\"http://www.w3.org/2000/svg\" height=\"24px\"viewBox=\"0 0 24 24\"\n",
              "     width=\"24px\">\n",
              "    <g>\n",
              "        <path d=\"M19 3H5c-1.1 0-2 .9-2 2v14c0 1.1.9 2 2 2h14c1.1 0 2-.9 2-2V5c0-1.1-.9-2-2-2zM9 17H7v-7h2v7zm4 0h-2V7h2v10zm4 0h-2v-4h2v4z\"/>\n",
              "    </g>\n",
              "</svg>\n",
              "      </button>\n",
              "    </div>\n",
              "\n",
              "<style>\n",
              "  .colab-df-quickchart {\n",
              "    background-color: #E8F0FE;\n",
              "    border: none;\n",
              "    border-radius: 50%;\n",
              "    cursor: pointer;\n",
              "    display: none;\n",
              "    fill: #1967D2;\n",
              "    height: 32px;\n",
              "    padding: 0 0 0 0;\n",
              "    width: 32px;\n",
              "  }\n",
              "\n",
              "  .colab-df-quickchart:hover {\n",
              "    background-color: #E2EBFA;\n",
              "    box-shadow: 0px 1px 2px rgba(60, 64, 67, 0.3), 0px 1px 3px 1px rgba(60, 64, 67, 0.15);\n",
              "    fill: #174EA6;\n",
              "  }\n",
              "\n",
              "  [theme=dark] .colab-df-quickchart {\n",
              "    background-color: #3B4455;\n",
              "    fill: #D2E3FC;\n",
              "  }\n",
              "\n",
              "  [theme=dark] .colab-df-quickchart:hover {\n",
              "    background-color: #434B5C;\n",
              "    box-shadow: 0px 1px 3px 1px rgba(0, 0, 0, 0.15);\n",
              "    filter: drop-shadow(0px 1px 2px rgba(0, 0, 0, 0.3));\n",
              "    fill: #FFFFFF;\n",
              "  }\n",
              "</style>\n",
              "\n",
              "    <script>\n",
              "      async function quickchart(key) {\n",
              "        const containerElement = document.querySelector('#' + key);\n",
              "        const charts = await google.colab.kernel.invokeFunction(\n",
              "            'suggestCharts', [key], {});\n",
              "      }\n",
              "    </script>\n",
              "\n",
              "      <script>\n",
              "\n",
              "function displayQuickchartButton(domScope) {\n",
              "  let quickchartButtonEl =\n",
              "    domScope.querySelector('#df-a4fe10ec-8b7f-460d-9569-1a3564e8e625 button.colab-df-quickchart');\n",
              "  quickchartButtonEl.style.display =\n",
              "    google.colab.kernel.accessAllowed ? 'block' : 'none';\n",
              "}\n",
              "\n",
              "        displayQuickchartButton(document);\n",
              "      </script>\n",
              "      <style>\n",
              "    .colab-df-container {\n",
              "      display:flex;\n",
              "      flex-wrap:wrap;\n",
              "      gap: 12px;\n",
              "    }\n",
              "\n",
              "    .colab-df-convert {\n",
              "      background-color: #E8F0FE;\n",
              "      border: none;\n",
              "      border-radius: 50%;\n",
              "      cursor: pointer;\n",
              "      display: none;\n",
              "      fill: #1967D2;\n",
              "      height: 32px;\n",
              "      padding: 0 0 0 0;\n",
              "      width: 32px;\n",
              "    }\n",
              "\n",
              "    .colab-df-convert:hover {\n",
              "      background-color: #E2EBFA;\n",
              "      box-shadow: 0px 1px 2px rgba(60, 64, 67, 0.3), 0px 1px 3px 1px rgba(60, 64, 67, 0.15);\n",
              "      fill: #174EA6;\n",
              "    }\n",
              "\n",
              "    [theme=dark] .colab-df-convert {\n",
              "      background-color: #3B4455;\n",
              "      fill: #D2E3FC;\n",
              "    }\n",
              "\n",
              "    [theme=dark] .colab-df-convert:hover {\n",
              "      background-color: #434B5C;\n",
              "      box-shadow: 0px 1px 3px 1px rgba(0, 0, 0, 0.15);\n",
              "      filter: drop-shadow(0px 1px 2px rgba(0, 0, 0, 0.3));\n",
              "      fill: #FFFFFF;\n",
              "    }\n",
              "  </style>\n",
              "\n",
              "      <script>\n",
              "        const buttonEl =\n",
              "          document.querySelector('#df-2e55ca77-706f-408b-b8ae-52cbd5b71334 button.colab-df-convert');\n",
              "        buttonEl.style.display =\n",
              "          google.colab.kernel.accessAllowed ? 'block' : 'none';\n",
              "\n",
              "        async function convertToInteractive(key) {\n",
              "          const element = document.querySelector('#df-2e55ca77-706f-408b-b8ae-52cbd5b71334');\n",
              "          const dataTable =\n",
              "            await google.colab.kernel.invokeFunction('convertToInteractive',\n",
              "                                                     [key], {});\n",
              "          if (!dataTable) return;\n",
              "\n",
              "          const docLinkHtml = 'Like what you see? Visit the ' +\n",
              "            '<a target=\"_blank\" href=https://colab.research.google.com/notebooks/data_table.ipynb>data table notebook</a>'\n",
              "            + ' to learn more about interactive tables.';\n",
              "          element.innerHTML = '';\n",
              "          dataTable['output_type'] = 'display_data';\n",
              "          await google.colab.output.renderOutput(dataTable, element);\n",
              "          const docLink = document.createElement('div');\n",
              "          docLink.innerHTML = docLinkHtml;\n",
              "          element.appendChild(docLink);\n",
              "        }\n",
              "      </script>\n",
              "    </div>\n",
              "  </div>\n"
            ]
          },
          "metadata": {},
          "execution_count": 7
        }
      ],
      "source": [
        "df.head()"
      ]
    },
    {
      "cell_type": "code",
      "execution_count": 8,
      "metadata": {
        "colab": {
          "base_uri": "https://localhost:8080/"
        },
        "id": "n7C9EPNtM5tl",
        "outputId": "d840d5f2-fbcf-4076-92b4-862ffb4dba28"
      },
      "outputs": [
        {
          "output_type": "execute_result",
          "data": {
            "text/plain": [
              "(785,)"
            ]
          },
          "metadata": {},
          "execution_count": 8
        }
      ],
      "source": [
        "df.iloc[0, :].shape"
      ]
    },
    {
      "cell_type": "code",
      "source": [
        "df['0'].max()"
      ],
      "metadata": {
        "colab": {
          "base_uri": "https://localhost:8080/"
        },
        "id": "d5vpVcIJ6pCe",
        "outputId": "fe073ffe-449e-471b-b57e-99a13a6b6d1c"
      },
      "execution_count": 9,
      "outputs": [
        {
          "output_type": "execute_result",
          "data": {
            "text/plain": [
              "25"
            ]
          },
          "metadata": {},
          "execution_count": 9
        }
      ]
    },
    {
      "cell_type": "code",
      "execution_count": 10,
      "metadata": {
        "colab": {
          "base_uri": "https://localhost:8080/"
        },
        "id": "URgZ4cNZRVau",
        "outputId": "a72b0ef1-6318-4252-893a-6b744a13eb20"
      },
      "outputs": [
        {
          "output_type": "execute_result",
          "data": {
            "text/plain": [
              "(20000, 785)"
            ]
          },
          "metadata": {},
          "execution_count": 10
        }
      ],
      "source": [
        "df.shape"
      ]
    },
    {
      "cell_type": "markdown",
      "metadata": {
        "id": "SXXeGgQVRKup"
      },
      "source": [
        "From the results above, it can be seen that the DataFrame has 372450 samples (images). Each image is represented as a matrix of (1x784). The first column is the actual character i.e, the target."
      ]
    },
    {
      "cell_type": "markdown",
      "metadata": {
        "id": "MxsfumuXR9vd"
      },
      "source": [
        "# Splitting the DataFrame into features (X) and target (y)"
      ]
    },
    {
      "cell_type": "code",
      "execution_count": 11,
      "metadata": {
        "id": "I5puaoz7Q1nZ"
      },
      "outputs": [],
      "source": [
        "X = df.drop('0',axis = 1)\n",
        "y = df['0']"
      ]
    },
    {
      "cell_type": "markdown",
      "metadata": {
        "id": "12d9MIlBS7RS"
      },
      "source": [
        "# Converting X and y into numpy arrays. Getting them into a format that is suitable for training and testing the model"
      ]
    },
    {
      "cell_type": "code",
      "execution_count": 12,
      "metadata": {
        "id": "jHtJ2u4fSTWn"
      },
      "outputs": [],
      "source": [
        "X = np.array(X)\n",
        "y = np.array(y)"
      ]
    },
    {
      "cell_type": "markdown",
      "metadata": {
        "id": "VnvwSlcnTJNR"
      },
      "source": [
        "# Reshaping X"
      ]
    },
    {
      "cell_type": "markdown",
      "metadata": {
        "id": "Ive6hE-LVEUj"
      },
      "source": [
        "We are reshaping X so that we can be able to display it as an image, as initially in the CSV file they were present as 784 columns of pixel data. So we convert it to 28×28 pixels."
      ]
    },
    {
      "cell_type": "code",
      "execution_count": 13,
      "metadata": {
        "id": "1MVX4VXRRElw"
      },
      "outputs": [],
      "source": [
        "X = X.reshape(X.shape[0], 28, 28, 1)\n",
        "y = y.reshape(y.shape[0], 1)"
      ]
    },
    {
      "cell_type": "code",
      "execution_count": 14,
      "metadata": {
        "id": "Q_kJjv0xSa5Z",
        "colab": {
          "base_uri": "https://localhost:8080/"
        },
        "outputId": "dd4013c6-dd0f-4884-f7a6-940b67aa8b4f"
      },
      "outputs": [
        {
          "output_type": "execute_result",
          "data": {
            "text/plain": [
              "(20000, 28, 28, 1)"
            ]
          },
          "metadata": {},
          "execution_count": 14
        }
      ],
      "source": [
        "X.shape"
      ]
    },
    {
      "cell_type": "code",
      "execution_count": 15,
      "metadata": {
        "id": "MnVPyliChFCF",
        "colab": {
          "base_uri": "https://localhost:8080/"
        },
        "outputId": "5c1884dc-7e3d-4078-e822-cd62a24f09df"
      },
      "outputs": [
        {
          "output_type": "execute_result",
          "data": {
            "text/plain": [
              "(20000, 1)"
            ]
          },
          "metadata": {},
          "execution_count": 15
        }
      ],
      "source": [
        "y.shape"
      ]
    },
    {
      "cell_type": "markdown",
      "metadata": {
        "id": "hgKLNMKlVUbT"
      },
      "source": [
        "# Splitting the dataset into train and test dataset"
      ]
    },
    {
      "cell_type": "code",
      "execution_count": 16,
      "metadata": {
        "id": "FcJL2dbfSKbC"
      },
      "outputs": [],
      "source": [
        "X_train, X_test, y_train, y_test = train_test_split(X, y, test_size=0.2, random_state=1)"
      ]
    },
    {
      "cell_type": "markdown",
      "metadata": {
        "id": "-yDolMAyWEUC"
      },
      "source": [
        "Since the target variable is a Series of floating-point numbers in the range (0, 25) inclusive, we create a dictionary that maps each of the characters to the corresponding digit, For example, 0: A, 1: B, etc."
      ]
    },
    {
      "cell_type": "code",
      "execution_count": 17,
      "metadata": {
        "id": "TuNFVZ3GVjcb"
      },
      "outputs": [],
      "source": [
        "char_dict = dict(zip([i for i in range(26)], list(ascii_uppercase)))"
      ]
    },
    {
      "cell_type": "code",
      "execution_count": 18,
      "metadata": {
        "id": "5BD5Ex9qXqGi",
        "colab": {
          "base_uri": "https://localhost:8080/"
        },
        "outputId": "84c02172-9727-4edf-b4ee-818c497ed78d"
      },
      "outputs": [
        {
          "output_type": "execute_result",
          "data": {
            "text/plain": [
              "{0: 'A',\n",
              " 1: 'B',\n",
              " 2: 'C',\n",
              " 3: 'D',\n",
              " 4: 'E',\n",
              " 5: 'F',\n",
              " 6: 'G',\n",
              " 7: 'H',\n",
              " 8: 'I',\n",
              " 9: 'J',\n",
              " 10: 'K',\n",
              " 11: 'L',\n",
              " 12: 'M',\n",
              " 13: 'N',\n",
              " 14: 'O',\n",
              " 15: 'P',\n",
              " 16: 'Q',\n",
              " 17: 'R',\n",
              " 18: 'S',\n",
              " 19: 'T',\n",
              " 20: 'U',\n",
              " 21: 'V',\n",
              " 22: 'W',\n",
              " 23: 'X',\n",
              " 24: 'Y',\n",
              " 25: 'Z'}"
            ]
          },
          "metadata": {},
          "execution_count": 18
        }
      ],
      "source": [
        "char_dict"
      ]
    },
    {
      "cell_type": "markdown",
      "metadata": {
        "id": "nxotKuYHeYjg"
      },
      "source": [
        "# Visualizing the number of samples for each character"
      ]
    },
    {
      "cell_type": "code",
      "execution_count": 19,
      "metadata": {
        "id": "pp7yK00PaNLp"
      },
      "outputs": [],
      "source": [
        "value_counts_dict = dict(pd.DataFrame(y).value_counts())"
      ]
    },
    {
      "cell_type": "code",
      "execution_count": 20,
      "metadata": {
        "id": "HrxATKujcc6j"
      },
      "outputs": [],
      "source": [
        "sorted_dict = dict(sorted(value_counts_dict.items(), key=lambda item: item[0]))"
      ]
    },
    {
      "cell_type": "markdown",
      "metadata": {
        "id": "o1LXm-P3ewQB"
      },
      "source": [
        "# Horizontal bar graph representing each character and the number of samples it has"
      ]
    },
    {
      "cell_type": "code",
      "execution_count": 21,
      "metadata": {
        "id": "mQiUf6gzXrz8",
        "colab": {
          "base_uri": "https://localhost:8080/",
          "height": 905
        },
        "outputId": "25829b4e-c1bb-4396-dbd7-5bdb42ed4773"
      },
      "outputs": [
        {
          "output_type": "display_data",
          "data": {
            "text/plain": [
              "<Figure size 1000x1000 with 1 Axes>"
            ],
            "image/png": "[encoded data removed]"
          },
          "metadata": {}
        }
      ],
      "source": [
        "plt.figure(figsize=(10,10))\n",
        "plt.barh(list(char_dict.values()), sorted_dict.values())\n",
        "plt.xlabel(\"Number of Samples\", fontdict={\"fontsize\": 20, \"fontfamily\": \"serif\"})\n",
        "plt.ylabel(\"Alphabets\", fontdict={\"fontsize\": 20, \"fontfamily\": \"serif\"})\n",
        "plt.title(\"Alphabets vs Number of Samples\", fontdict={\"fontsize\": 30, \"fontfamily\": \"serif\"})\n",
        "plt.grid()\n",
        "plt.show()"
      ]
    },
    {
      "cell_type": "code",
      "execution_count": 21,
      "metadata": {
        "id": "MsC2RGw2YHAf"
      },
      "outputs": [],
      "source": []
    },
    {
      "cell_type": "markdown",
      "metadata": {
        "id": "TdJIhDnSf3qQ"
      },
      "source": [
        "# Visualizing some random characters"
      ]
    },
    {
      "cell_type": "code",
      "execution_count": 22,
      "metadata": {
        "id": "99OOZ-Ebf6wn",
        "colab": {
          "base_uri": "https://localhost:8080/",
          "height": 606
        },
        "outputId": "a346ad95-0fdb-4e16-b726-a441e8cc66c7"
      },
      "outputs": [
        {
          "output_type": "display_data",
          "data": {
            "text/plain": [
              "<Figure size 800x600 with 9 Axes>"
            ],
            "image/png": "[encoded data removed]"
          },
          "metadata": {}
        }
      ],
      "source": [
        "shuffled_images = shuffle(X_train.reshape(X_train.shape[0], 28, 28))[:100]\n",
        "\n",
        "fig, ax = plt.subplots(3,3, figsize = (8, 6))\n",
        "axes = ax.flatten()\n",
        "\n",
        "for i in range(9):\n",
        "    axes[i].imshow(shuffled_images[i], cmap='gray')\n",
        "    plt.tight_layout()\n",
        "plt.show()"
      ]
    },
    {
      "cell_type": "markdown",
      "metadata": {
        "id": "ZSsy9m_1n7HQ"
      },
      "source": [
        "# Converting the target (y) to one-hot encoded"
      ]
    },
    {
      "cell_type": "code",
      "execution_count": 23,
      "metadata": {
        "id": "knZMp_Slf-ot"
      },
      "outputs": [],
      "source": [
        "y_train_cat = to_categorical(y_train, num_classes = 26, dtype='int')\n",
        "y_test_cat = to_categorical(y_test, num_classes = 26, dtype='int')"
      ]
    },
    {
      "cell_type": "code",
      "execution_count": 24,
      "metadata": {
        "id": "gcN26JWopiX2",
        "colab": {
          "base_uri": "https://localhost:8080/"
        },
        "outputId": "0067df3c-5fdc-4d53-99ad-fcc1d58f8062"
      },
      "outputs": [
        {
          "output_type": "execute_result",
          "data": {
            "text/plain": [
              "array([[0, 0, 0, 0, 0, 0, 0, 0, 0, 0, 0, 0, 0, 0, 1, 0, 0, 0, 0, 0, 0, 0,\n",
              "        0, 0, 0, 0],\n",
              "       [0, 0, 0, 0, 0, 0, 0, 0, 0, 0, 0, 0, 0, 0, 0, 1, 0, 0, 0, 0, 0, 0,\n",
              "        0, 0, 0, 0],\n",
              "       [0, 0, 0, 1, 0, 0, 0, 0, 0, 0, 0, 0, 0, 0, 0, 0, 0, 0, 0, 0, 0, 0,\n",
              "        0, 0, 0, 0],\n",
              "       [0, 0, 0, 0, 0, 0, 0, 0, 0, 0, 0, 0, 0, 0, 0, 0, 0, 0, 0, 0, 1, 0,\n",
              "        0, 0, 0, 0],\n",
              "       [0, 0, 0, 0, 0, 0, 0, 0, 0, 0, 0, 0, 1, 0, 0, 0, 0, 0, 0, 0, 0, 0,\n",
              "        0, 0, 0, 0],\n",
              "       [0, 0, 0, 0, 0, 0, 0, 0, 0, 0, 0, 0, 0, 0, 0, 0, 0, 0, 1, 0, 0, 0,\n",
              "        0, 0, 0, 0],\n",
              "       [0, 0, 0, 0, 0, 0, 1, 0, 0, 0, 0, 0, 0, 0, 0, 0, 0, 0, 0, 0, 0, 0,\n",
              "        0, 0, 0, 0],\n",
              "       [0, 0, 0, 0, 0, 0, 0, 0, 0, 0, 0, 0, 0, 0, 0, 0, 0, 0, 0, 0, 1, 0,\n",
              "        0, 0, 0, 0],\n",
              "       [0, 0, 0, 0, 0, 0, 0, 0, 0, 0, 0, 0, 0, 0, 1, 0, 0, 0, 0, 0, 0, 0,\n",
              "        0, 0, 0, 0],\n",
              "       [0, 0, 0, 0, 0, 0, 0, 0, 1, 0, 0, 0, 0, 0, 0, 0, 0, 0, 0, 0, 0, 0,\n",
              "        0, 0, 0, 0]])"
            ]
          },
          "metadata": {},
          "execution_count": 24
        }
      ],
      "source": [
        "y_train_cat[:10]"
      ]
    },
    {
      "cell_type": "code",
      "execution_count": 25,
      "metadata": {
        "id": "rxN88wXR9qpi",
        "colab": {
          "base_uri": "https://localhost:8080/"
        },
        "outputId": "8cc575a9-b27a-4c0d-b778-76a0b54c2769"
      },
      "outputs": [
        {
          "output_type": "execute_result",
          "data": {
            "text/plain": [
              "array([[0, 0, 1, 0, 0, 0, 0, 0, 0, 0, 0, 0, 0, 0, 0, 0, 0, 0, 0, 0, 0, 0,\n",
              "        0, 0, 0, 0],\n",
              "       [0, 0, 0, 0, 0, 0, 0, 0, 0, 0, 0, 0, 0, 0, 0, 0, 0, 0, 0, 0, 0, 0,\n",
              "        1, 0, 0, 0],\n",
              "       [0, 0, 0, 0, 0, 0, 0, 0, 0, 0, 0, 0, 0, 0, 1, 0, 0, 0, 0, 0, 0, 0,\n",
              "        0, 0, 0, 0],\n",
              "       [0, 0, 0, 0, 0, 0, 0, 0, 0, 0, 0, 0, 0, 0, 0, 0, 0, 1, 0, 0, 0, 0,\n",
              "        0, 0, 0, 0],\n",
              "       [0, 0, 0, 0, 0, 0, 0, 0, 0, 0, 0, 0, 0, 0, 1, 0, 0, 0, 0, 0, 0, 0,\n",
              "        0, 0, 0, 0],\n",
              "       [0, 0, 0, 0, 0, 0, 0, 0, 0, 0, 0, 0, 0, 0, 0, 0, 0, 0, 0, 0, 0, 0,\n",
              "        0, 0, 1, 0],\n",
              "       [0, 0, 1, 0, 0, 0, 0, 0, 0, 0, 0, 0, 0, 0, 0, 0, 0, 0, 0, 0, 0, 0,\n",
              "        0, 0, 0, 0],\n",
              "       [0, 0, 0, 0, 0, 0, 0, 0, 0, 0, 0, 0, 0, 0, 0, 0, 1, 0, 0, 0, 0, 0,\n",
              "        0, 0, 0, 0],\n",
              "       [0, 0, 0, 0, 0, 0, 0, 0, 0, 0, 0, 0, 0, 0, 0, 0, 0, 0, 0, 0, 0, 0,\n",
              "        1, 0, 0, 0],\n",
              "       [0, 0, 0, 1, 0, 0, 0, 0, 0, 0, 0, 0, 0, 0, 0, 0, 0, 0, 0, 0, 0, 0,\n",
              "        0, 0, 0, 0]])"
            ]
          },
          "metadata": {},
          "execution_count": 25
        }
      ],
      "source": [
        "y_test_cat[:10]"
      ]
    },
    {
      "cell_type": "markdown",
      "metadata": {
        "id": "dnjZN_ZnmQwN"
      },
      "source": [
        "# Creating the Model"
      ]
    },
    {
      "cell_type": "code",
      "execution_count": 26,
      "metadata": {
        "id": "aY0RymvHl5rx"
      },
      "outputs": [],
      "source": [
        "model = Sequential()\n",
        "model.add(Conv2D(filters=32, kernel_size=(3, 3), activation='relu', input_shape=(28,28,1)))\n",
        "model.add(MaxPool2D(pool_size=(2, 2), strides=2))\n",
        "\n",
        "model.add(Conv2D(filters=64, kernel_size=(3, 3), activation='relu', padding = 'same'))\n",
        "model.add(MaxPool2D(pool_size=(2, 2), strides=2))\n",
        "\n",
        "model.add(Conv2D(filters=128, kernel_size=(3, 3), activation='relu', padding = 'valid'))\n",
        "model.add(MaxPool2D(pool_size=(2, 2), strides=2))\n",
        "\n",
        "model.add(Flatten())\n",
        "\n",
        "model.add(Dense(64,activation =\"relu\"))\n",
        "model.add(Dense(128,activation =\"relu\"))\n",
        "model.add(Dense(26,activation =\"softmax\"))"
      ]
    },
    {
      "cell_type": "markdown",
      "metadata": {
        "id": "61-LIUkIYDJp"
      },
      "source": [
        "# Defining utility variables for the CNN"
      ]
    },
    {
      "cell_type": "code",
      "execution_count": 27,
      "metadata": {
        "id": "tCirjvbPYBeU"
      },
      "outputs": [],
      "source": [
        "cnn_n_epochs = 10\n",
        "lr = 0.001\n",
        "loss = 'categorical_crossentropy'\n",
        "metrics = ['accuracy']"
      ]
    },
    {
      "cell_type": "markdown",
      "metadata": {
        "id": "B_0_9Bzrp8il"
      },
      "source": [
        "# Compiling and fitting the model"
      ]
    },
    {
      "cell_type": "code",
      "execution_count": 28,
      "metadata": {
        "id": "_71sUKgQmYwc",
        "colab": {
          "base_uri": "https://localhost:8080/"
        },
        "outputId": "0362fe4e-0f73-4505-ea91-fbc0e560777d"
      },
      "outputs": [
        {
          "output_type": "stream",
          "name": "stdout",
          "text": [
            "Epoch 1/10\n",
            "500/500 [==============================] - 14s 7ms/step - loss: 1.0160 - accuracy: 0.7511 - val_loss: 0.3101 - val_accuracy: 0.9095\n",
            "Epoch 2/10\n",
            "500/500 [==============================] - 2s 4ms/step - loss: 0.2567 - accuracy: 0.9211 - val_loss: 0.2318 - val_accuracy: 0.9335\n",
            "Epoch 3/10\n",
            "500/500 [==============================] - 2s 4ms/step - loss: 0.1670 - accuracy: 0.9498 - val_loss: 0.2220 - val_accuracy: 0.9335\n",
            "Epoch 4/10\n",
            "500/500 [==============================] - 2s 4ms/step - loss: 0.1276 - accuracy: 0.9619 - val_loss: 0.1903 - val_accuracy: 0.9528\n",
            "Epoch 5/10\n",
            "500/500 [==============================] - 2s 4ms/step - loss: 0.1036 - accuracy: 0.9688 - val_loss: 0.2064 - val_accuracy: 0.9417\n",
            "Epoch 6/10\n",
            "500/500 [==============================] - 3s 7ms/step - loss: 0.0836 - accuracy: 0.9744 - val_loss: 0.2293 - val_accuracy: 0.9377\n",
            "Epoch 7/10\n",
            "500/500 [==============================] - 2s 4ms/step - loss: 0.0814 - accuracy: 0.9741 - val_loss: 0.1631 - val_accuracy: 0.9572\n",
            "Epoch 8/10\n",
            "500/500 [==============================] - 2s 4ms/step - loss: 0.0774 - accuracy: 0.9778 - val_loss: 0.1569 - val_accuracy: 0.9600\n",
            "Epoch 9/10\n",
            "500/500 [==============================] - 2s 4ms/step - loss: 0.0581 - accuracy: 0.9814 - val_loss: 0.2051 - val_accuracy: 0.9507\n",
            "Epoch 10/10\n",
            "500/500 [==============================] - 2s 4ms/step - loss: 0.0500 - accuracy: 0.9832 - val_loss: 0.1875 - val_accuracy: 0.9617\n"
          ]
        }
      ],
      "source": [
        "model.compile(optimizer = Adam(learning_rate=lr), loss=loss, metrics=metrics)\n",
        "fitted_model = model.fit(X_train, y_train_cat, epochs=cnn_n_epochs,  validation_data=(X_test, y_test_cat))"
      ]
    },
    {
      "cell_type": "markdown",
      "metadata": {
        "id": "2OCYsQjxtQNj"
      },
      "source": [
        "# Saving the model"
      ]
    },
    {
      "cell_type": "code",
      "source": [
        "save_dir = \"gdrive/MyDrive/Handwritten_Characters_Prediction_Models\""
      ],
      "metadata": {
        "id": "lXBAffbZmNVP"
      },
      "execution_count": 29,
      "outputs": []
    },
    {
      "cell_type": "code",
      "execution_count": 30,
      "metadata": {
        "id": "pluyynZ5Nx7J"
      },
      "outputs": [],
      "source": [
        "if not os.path.exists(save_dir):\n",
        "    os.mkdir(save_dir)\n",
        "  # !mkdir gdrive/MyDrive/Handwritten_Characters_Prediction_Models"
      ]
    },
    {
      "cell_type": "code",
      "execution_count": 31,
      "metadata": {
        "id": "dKkjDHWCqUQv",
        "colab": {
          "base_uri": "https://localhost:8080/"
        },
        "outputId": "fb6680fa-7934-4981-d53d-b4e48a8e2632"
      },
      "outputs": [
        {
          "output_type": "stream",
          "name": "stdout",
          "text": [
            "Model: \"sequential\"\n",
            "_________________________________________________________________\n",
            " Layer (type)                Output Shape              Param #   \n",
            "=================================================================\n",
            " conv2d (Conv2D)             (None, 26, 26, 32)        320       \n",
            "                                                                 \n",
            " max_pooling2d (MaxPooling2D  (None, 13, 13, 32)       0         \n",
            " )                                                               \n",
            "                                                                 \n",
            " conv2d_1 (Conv2D)           (None, 13, 13, 64)        18496     \n",
            "                                                                 \n",
            " max_pooling2d_1 (MaxPooling  (None, 6, 6, 64)         0         \n",
            " 2D)                                                             \n",
            "                                                                 \n",
            " conv2d_2 (Conv2D)           (None, 4, 4, 128)         73856     \n",
            "                                                                 \n",
            " max_pooling2d_2 (MaxPooling  (None, 2, 2, 128)        0         \n",
            " 2D)                                                             \n",
            "                                                                 \n",
            " flatten (Flatten)           (None, 512)               0         \n",
            "                                                                 \n",
            " dense (Dense)               (None, 64)                32832     \n",
            "                                                                 \n",
            " dense_1 (Dense)             (None, 128)               8320      \n",
            "                                                                 \n",
            " dense_2 (Dense)             (None, 26)                3354      \n",
            "                                                                 \n",
            "=================================================================\n",
            "Total params: 137,178\n",
            "Trainable params: 137,178\n",
            "Non-trainable params: 0\n",
            "_________________________________________________________________\n"
          ]
        }
      ],
      "source": [
        "model.summary()\n",
        "model.save(os.path.join(save_dir, 'model_hand.h5'))"
      ]
    },
    {
      "cell_type": "code",
      "execution_count": 32,
      "metadata": {
        "id": "VO4nsWiWTyk2"
      },
      "outputs": [],
      "source": [
        "# !cp model_hand.h5 gdrive/MyDrive/Handwritten_Characters_Prediction_Models"
      ]
    },
    {
      "cell_type": "markdown",
      "metadata": {
        "id": "_dOrzJ83U3mj"
      },
      "source": [
        "# Loading the model from the history object"
      ]
    },
    {
      "cell_type": "code",
      "execution_count": 33,
      "metadata": {
        "id": "O-cIbjFSU2Ob"
      },
      "outputs": [],
      "source": [
        "base_model = model\n",
        "base_model.load_weights(filepath=os.path.join(save_dir, 'model_hand.h5'))"
      ]
    },
    {
      "cell_type": "markdown",
      "metadata": {
        "id": "hMN_SgKTXsN0"
      },
      "source": [
        "# Utility function to plot accuracy and loss plots"
      ]
    },
    {
      "cell_type": "code",
      "execution_count": 34,
      "metadata": {
        "id": "z1u3uHs9XorX"
      },
      "outputs": [],
      "source": [
        "def plot_acc_loss(result, epochs):\n",
        "    acc = result.history['accuracy']\n",
        "    loss = result.history['loss']\n",
        "    val_acc = result.history['val_accuracy']\n",
        "    val_loss = result.history['val_loss']\n",
        "    plt.figure(figsize=(25, 10))\n",
        "    plt.subplot(121)\n",
        "    plt.xlim(0,epochs)\n",
        "    plt.ylim(0, 1.05)\n",
        "    plt.plot(range(1,epochs), acc[1:], label='Train_acc')\n",
        "    plt.plot(range(1,epochs), val_acc[1:], label='Val_acc')\n",
        "    plt.title('Accuracy over ' + str(epochs) + ' Epochs', size=15)\n",
        "    plt.legend()\n",
        "    plt.grid(True)\n",
        "    plt.subplot(122)\n",
        "    plt.xlim(0,epochs)\n",
        "    plt.ylim(0, 1.4)\n",
        "    plt.plot(range(1,epochs), loss[1:], label='Train_loss')\n",
        "    plt.plot(range(1,epochs), val_loss[1:], label='Val_loss')\n",
        "    plt.title('Loss over ' + str(epochs) + ' Epochs', size=15)\n",
        "    plt.legend()\n",
        "    plt.grid(True)\n",
        "    plt.show()"
      ]
    },
    {
      "cell_type": "markdown",
      "metadata": {
        "id": "OqF66m42XMCr"
      },
      "source": [
        "# Plotting the accuracy and loss curves of the cnn model"
      ]
    },
    {
      "cell_type": "code",
      "execution_count": 35,
      "metadata": {
        "id": "LellDwcHVM8I",
        "colab": {
          "base_uri": "https://localhost:8080/",
          "height": 496
        },
        "outputId": "8faf76ae-955b-4bcb-9007-10e54212f76e"
      },
      "outputs": [
        {
          "output_type": "display_data",
          "data": {
            "text/plain": [
              "<Figure size 2500x1000 with 2 Axes>"
            ],
            "image/png": "[encoded data removed]"
          },
          "metadata": {}
        }
      ],
      "source": [
        "plot_acc_loss(fitted_model, cnn_n_epochs)"
      ]
    },
    {
      "cell_type": "code",
      "execution_count": 35,
      "metadata": {
        "id": "YzwN5etPCVbg"
      },
      "outputs": [],
      "source": []
    },
    {
      "cell_type": "markdown",
      "metadata": {
        "id": "lueWiT1yDMy9"
      },
      "source": [
        "# Fine tuning after unfreezing layers and saving the history object"
      ]
    },
    {
      "cell_type": "code",
      "execution_count": 36,
      "metadata": {
        "id": "-cpavxABCVfm",
        "colab": {
          "base_uri": "https://localhost:8080/"
        },
        "outputId": "e289b1ca-eecb-48db-f5db-a9c1e84a9c01"
      },
      "outputs": [
        {
          "output_type": "stream",
          "name": "stdout",
          "text": [
            "Model: \"sequential\"\n",
            "_________________________________________________________________\n",
            " Layer (type)                Output Shape              Param #   \n",
            "=================================================================\n",
            " conv2d (Conv2D)             (None, 26, 26, 32)        320       \n",
            "                                                                 \n",
            " max_pooling2d (MaxPooling2D  (None, 13, 13, 32)       0         \n",
            " )                                                               \n",
            "                                                                 \n",
            " conv2d_1 (Conv2D)           (None, 13, 13, 64)        18496     \n",
            "                                                                 \n",
            " max_pooling2d_1 (MaxPooling  (None, 6, 6, 64)         0         \n",
            " 2D)                                                             \n",
            "                                                                 \n",
            " conv2d_2 (Conv2D)           (None, 4, 4, 128)         73856     \n",
            "                                                                 \n",
            " max_pooling2d_2 (MaxPooling  (None, 2, 2, 128)        0         \n",
            " 2D)                                                             \n",
            "                                                                 \n",
            " flatten (Flatten)           (None, 512)               0         \n",
            "                                                                 \n",
            " dense (Dense)               (None, 64)                32832     \n",
            "                                                                 \n",
            " dense_1 (Dense)             (None, 128)               8320      \n",
            "                                                                 \n",
            " dense_2 (Dense)             (None, 26)                3354      \n",
            "                                                                 \n",
            "=================================================================\n",
            "Total params: 137,178\n",
            "Trainable params: 137,178\n",
            "Non-trainable params: 0\n",
            "_________________________________________________________________\n"
          ]
        }
      ],
      "source": [
        "base_model = model\n",
        "base_model.load_weights(filepath=\"gdrive/MyDrive/Handwritten_Characters_Prediction_Models/model_hand.h5\")\n",
        "base_model.trainable = True\n",
        "#unfreeze every layer except batchnorm\n",
        "for layer in base_model.layers:\n",
        "  if isinstance(layer, BatchNormalization):\n",
        "    layer.trainable = False\n",
        "    # print(layer.trainable)\n",
        "    # print(layer)\n",
        "#for finetuning we use much lower learning rate.\n",
        "optimizers = Adam(learning_rate=0.00001)\n",
        "base_model.compile(loss = 'categorical_crossentropy', optimizer = optimizers, metrics = ['accuracy'])\n",
        "base_model.save(\"gdrive/MyDrive/Handwritten_Characters_Prediction_Models/model_hand_fine_tuned.h5\")\n",
        "base_model.summary()"
      ]
    },
    {
      "cell_type": "code",
      "execution_count": 37,
      "metadata": {
        "id": "W_O-np3wCVje",
        "colab": {
          "base_uri": "https://localhost:8080/"
        },
        "outputId": "468570b1-3e17-4e8e-8fe4-f49f64b215dd"
      },
      "outputs": [
        {
          "output_type": "stream",
          "name": "stdout",
          "text": [
            "Epoch 1/10\n",
            "500/500 [==============================] - 3s 4ms/step - loss: 0.0254 - accuracy: 0.9919 - val_loss: 0.1657 - val_accuracy: 0.9660\n",
            "Epoch 2/10\n",
            "500/500 [==============================] - 3s 6ms/step - loss: 0.0156 - accuracy: 0.9954 - val_loss: 0.1587 - val_accuracy: 0.9680\n",
            "Epoch 3/10\n",
            "500/500 [==============================] - 3s 5ms/step - loss: 0.0116 - accuracy: 0.9973 - val_loss: 0.1554 - val_accuracy: 0.9690\n",
            "Epoch 4/10\n",
            "500/500 [==============================] - 2s 4ms/step - loss: 0.0092 - accuracy: 0.9979 - val_loss: 0.1537 - val_accuracy: 0.9697\n",
            "Epoch 5/10\n",
            "500/500 [==============================] - 2s 4ms/step - loss: 0.0076 - accuracy: 0.9984 - val_loss: 0.1528 - val_accuracy: 0.9700\n",
            "Epoch 6/10\n",
            "500/500 [==============================] - 2s 4ms/step - loss: 0.0063 - accuracy: 0.9985 - val_loss: 0.1533 - val_accuracy: 0.9707\n",
            "Epoch 7/10\n",
            "500/500 [==============================] - 2s 4ms/step - loss: 0.0053 - accuracy: 0.9990 - val_loss: 0.1532 - val_accuracy: 0.9710\n",
            "Epoch 8/10\n",
            "500/500 [==============================] - 3s 6ms/step - loss: 0.0045 - accuracy: 0.9991 - val_loss: 0.1538 - val_accuracy: 0.9712\n",
            "Epoch 9/10\n",
            "500/500 [==============================] - 2s 5ms/step - loss: 0.0039 - accuracy: 0.9994 - val_loss: 0.1545 - val_accuracy: 0.9715\n",
            "Epoch 10/10\n",
            "500/500 [==============================] - 2s 4ms/step - loss: 0.0034 - accuracy: 0.9996 - val_loss: 0.1546 - val_accuracy: 0.9722\n"
          ]
        }
      ],
      "source": [
        "fine_tuned_model = base_model.fit(X_train, y_train_cat, epochs=cnn_n_epochs,  validation_data=(X_test, y_test_cat))"
      ]
    },
    {
      "cell_type": "markdown",
      "metadata": {
        "id": "OM7jtjVPFO30"
      },
      "source": [
        "# Plotting the accuracy and loss curves of the fine_tuned_cnn"
      ]
    },
    {
      "cell_type": "code",
      "execution_count": 38,
      "metadata": {
        "id": "NQc8sxA5vEs5",
        "colab": {
          "base_uri": "https://localhost:8080/",
          "height": 496
        },
        "outputId": "d1d2d4c0-1e0b-407d-a280-71c346217e4c"
      },
      "outputs": [
        {
          "output_type": "display_data",
          "data": {
            "text/plain": [
              "<Figure size 2500x1000 with 2 Axes>"
            ],
            "image/png": "[encoded data removed]"
          },
          "metadata": {}
        }
      ],
      "source": [
        "plot_acc_loss(fine_tuned_model, cnn_n_epochs)"
      ]
    },
    {
      "cell_type": "markdown",
      "metadata": {
        "id": "fJMtv75kFe_f"
      },
      "source": [
        "# Testing the model"
      ]
    },
    {
      "cell_type": "code",
      "execution_count": 39,
      "metadata": {
        "id": "X4b2Z61JERvB",
        "colab": {
          "base_uri": "https://localhost:8080/"
        },
        "outputId": "687e643d-da1a-4076-b8b7-d16a61cb9615"
      },
      "outputs": [
        {
          "output_type": "stream",
          "name": "stdout",
          "text": [
            "125/125 [==============================] - 0s 2ms/step\n",
            "The accuracy of the model is: 96.175\n"
          ]
        }
      ],
      "source": [
        "final_cnn = base_model\n",
        "final_cnn.load_weights(\"gdrive/MyDrive/Handwritten_Characters_Prediction_Models/model_hand_fine_tuned.h5\")\n",
        "\n",
        "predicted_labels = final_cnn.predict(X_test)\n",
        "\n",
        "actual_y_test = [np.argmax(y, axis=None, out=None) for y in y_test_cat]\n",
        "predicted_y_test = np.argmax(predicted_labels, axis=1)\n",
        "accuracy = len(np.where(actual_y_test == predicted_y_test)[0]) / len(actual_y_test)\n",
        "print(f\"The accuracy of the model is: {accuracy*100}\")"
      ]
    },
    {
      "cell_type": "markdown",
      "source": [
        "# Saving and Loading the final model"
      ],
      "metadata": {
        "id": "T7oslCMXzKTW"
      }
    },
    {
      "cell_type": "code",
      "source": [
        "final_cnn.save(\"gdrive/MyDrive/Handwritten_Characters_Prediction_Models/fine_tuned_cnn.h5\")"
      ],
      "metadata": {
        "id": "yhd7LCYI3mj9"
      },
      "execution_count": 40,
      "outputs": []
    },
    {
      "cell_type": "code",
      "source": [
        "loaded = load_model(\"gdrive/MyDrive/Handwritten_Characters_Prediction_Models/fine_tuned_cnn.h5\")"
      ],
      "metadata": {
        "id": "XX1S0-6L3uGp"
      },
      "execution_count": 41,
      "outputs": []
    },
    {
      "cell_type": "code",
      "source": [
        "loaded.predict(X_test)"
      ],
      "metadata": {
        "colab": {
          "base_uri": "https://localhost:8080/"
        },
        "id": "G2ipFhlE34gz",
        "outputId": "0993fb82-7f97-4f22-b8dc-cd89d9b5f187"
      },
      "execution_count": 42,
      "outputs": [
        {
          "output_type": "stream",
          "name": "stdout",
          "text": [
            "125/125 [==============================] - 0s 2ms/step\n"
          ]
        },
        {
          "output_type": "execute_result",
          "data": {
            "text/plain": [
              "array([[3.05060059e-15, 4.68177146e-13, 9.99997258e-01, ...,\n",
              "        1.49538680e-11, 8.90154825e-11, 3.11161263e-10],\n",
              "       [6.10213040e-18, 8.37283801e-14, 2.75330685e-14, ...,\n",
              "        9.78971564e-18, 1.34389800e-11, 1.39227702e-22],\n",
              "       [1.11053666e-10, 3.68566733e-09, 7.15648341e-08, ...,\n",
              "        8.30207167e-17, 1.41791158e-12, 9.26334530e-13],\n",
              "       ...,\n",
              "       [7.66829089e-06, 1.34586355e-06, 1.57163571e-09, ...,\n",
              "        1.68743899e-08, 2.54661586e-06, 5.72923683e-15],\n",
              "       [1.65955444e-11, 9.48724543e-10, 3.05374524e-05, ...,\n",
              "        3.67011543e-12, 4.66456278e-08, 2.55443999e-11],\n",
              "       [4.52240068e-09, 9.94218111e-11, 5.87840141e-08, ...,\n",
              "        6.23627042e-04, 9.99278367e-01, 1.91614067e-08]], dtype=float32)"
            ]
          },
          "metadata": {},
          "execution_count": 42
        }
      ]
    },
    {
      "cell_type": "code",
      "execution_count": 43,
      "metadata": {
        "id": "13ftkB1iFeGY",
        "colab": {
          "base_uri": "https://localhost:8080/"
        },
        "outputId": "32ea2feb-be17-4d25-df2c-343be0b067e3"
      },
      "outputs": [
        {
          "output_type": "stream",
          "name": "stdout",
          "text": [
            "capA.jpg  capB.jpg\n"
          ]
        }
      ],
      "source": [
        "!ls gdrive/MyDrive/Sample\\ Characters"
      ]
    },
    {
      "cell_type": "markdown",
      "source": [
        "# Making Predictions on sample images"
      ],
      "metadata": {
        "id": "NWutDb_fAAba"
      }
    },
    {
      "cell_type": "code",
      "execution_count": 44,
      "metadata": {
        "id": "zdyU0JiOERzx"
      },
      "outputs": [],
      "source": [
        "sample_img_path = \"gdrive/MyDrive/Sample Characters/capA.jpg\""
      ]
    },
    {
      "cell_type": "code",
      "execution_count": 45,
      "metadata": {
        "id": "al_718XAtn_q"
      },
      "outputs": [],
      "source": [
        "def preprocess_img(img_path, threshold=120):\n",
        "  # Load the image\n",
        "  img = cv2.imread(img_path)\n",
        "\n",
        "  # Convert the image to grayscale\n",
        "  gray = cv2.cvtColor(img, cv2.COLOR_BGR2GRAY)\n",
        "\n",
        "  # Resize the image to 28x28 pixels\n",
        "  resized = cv2.resize(gray, (28, 28), interpolation=cv2.INTER_AREA)\n",
        "\n",
        "  # Invert the colors\n",
        "  inverted = cv2.bitwise_not(resized)\n",
        "\n",
        "  # Removing Noise\n",
        "  inverted[inverted <= threshold] = 0\n",
        "\n",
        "  # Drawing the image\n",
        "  # plt.imshow(inverted, cmap='gray')\n",
        "  # plt.show()\n",
        "\n",
        "  # Reshaping the array to fit the model architecture\n",
        "  img_arr = inverted.reshape(1, 28, 28, 1)\n",
        "\n",
        "  # Returning the image array\n",
        "  return img_arr\n"
      ]
    },
    {
      "cell_type": "code",
      "execution_count": 46,
      "metadata": {
        "id": "NUgCwIV2toDm"
      },
      "outputs": [],
      "source": [
        "img_arr = preprocess_img(sample_img_path)"
      ]
    },
    {
      "cell_type": "code",
      "execution_count": 47,
      "metadata": {
        "colab": {
          "base_uri": "https://localhost:8080/"
        },
        "id": "Ghd66Db1toGa",
        "outputId": "656b7e24-3645-4caa-cb36-dad55f710729"
      },
      "outputs": [
        {
          "output_type": "stream",
          "name": "stdout",
          "text": [
            "1/1 [==============================] - 0s 191ms/step\n",
            "The predicted character is: A\n"
          ]
        }
      ],
      "source": [
        "print(f\"The predicted character is: {char_dict[final_cnn.predict(img_arr).argmax()]}\")"
      ]
    },
    {
      "cell_type": "code",
      "source": [],
      "metadata": {
        "id": "eRAEebNWQoVX"
      },
      "execution_count": 47,
      "outputs": []
    }
  ],
  "metadata": {
    "accelerator": "GPU",
    "colab": {
      "provenance": [],
      "gpuType": "T4"
    },
    "kernelspec": {
      "display_name": "Python 3",
      "name": "python3"
    },
    "language_info": {
      "name": "python"
    }
  },
  "nbformat": 4,
  "nbformat_minor": 0
}